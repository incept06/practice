{
  "nbformat": 4,
  "nbformat_minor": 0,
  "metadata": {
    "colab": {
      "name": "Linear Regression_Pytorch.ipynb",
      "version": "0.3.2",
      "provenance": [],
      "collapsed_sections": []
    },
    "kernelspec": {
      "name": "python3",
      "display_name": "Python 3"
    }
  },
  "cells": [
    {
      "cell_type": "code",
      "metadata": {
        "id": "7yaseMIwVsy7",
        "colab_type": "code",
        "outputId": "dd4ea3c5-2c13-4fa0-f436-182e87fc632f",
        "colab": {
          "base_uri": "https://localhost:8080/",
          "height": 52
        }
      },
      "source": [
        "!pip3 install torch"
      ],
      "execution_count": 14,
      "outputs": [
        {
          "output_type": "stream",
          "text": [
            "Requirement already satisfied: torch in /usr/local/lib/python3.6/dist-packages (1.1.0)\n",
            "Requirement already satisfied: numpy in /usr/local/lib/python3.6/dist-packages (from torch) (1.16.4)\n"
          ],
          "name": "stdout"
        }
      ]
    },
    {
      "cell_type": "code",
      "metadata": {
        "id": "E1UOZ5tUVyjh",
        "colab_type": "code",
        "colab": {}
      },
      "source": [
        "import torch\n",
        "import torch.nn as nn\n",
        "import numpy as np\n",
        "import matplotlib.pyplot as plt"
      ],
      "execution_count": 0,
      "outputs": []
    },
    {
      "cell_type": "code",
      "metadata": {
        "id": "Tj_CTd3lWBnv",
        "colab_type": "code",
        "outputId": "17bc5a49-f9a1-4399-aa6b-214f24c79f12",
        "colab": {
          "base_uri": "https://localhost:8080/",
          "height": 300
        }
      },
      "source": [
        "X = torch.randn(100,1)*10\n",
        "y= X + 3*torch.randn(100, 1)\n",
        "plt.plot(X.numpy(), y.numpy(), 'o')\n",
        "plt.ylabel('y') \n",
        "plt.xlabel('x')\n",
        "\n",
        "\n"
      ],
      "execution_count": 16,
      "outputs": [
        {
          "output_type": "execute_result",
          "data": {
            "text/plain": [
              "Text(0.5, 0, 'x')"
            ]
          },
          "metadata": {
            "tags": []
          },
          "execution_count": 16
        },
        {
          "output_type": "display_data",
          "data": {
            "image/png": "[encoded data removed]",
            "text/plain": [
              "<Figure size 432x288 with 1 Axes>"
            ]
          },
          "metadata": {
            "tags": []
          }
        }
      ]
    },
    {
      "cell_type": "code",
      "metadata": {
        "id": "y6rKp6pGW6pQ",
        "colab_type": "code",
        "colab": {}
      },
      "source": [
        "class LR(nn.Module):\n",
        "  def __init__(self, input_size, output_size):\n",
        "    super().__init__()\n",
        "    self.linear = nn.Linear(input_size, output_size)\n",
        "  def forward(self, x):\n",
        "    pred = self.linear(x)\n",
        "    return pred"
      ],
      "execution_count": 0,
      "outputs": []
    },
    {
      "cell_type": "code",
      "metadata": {
        "id": "hpQsjEqknA4K",
        "colab_type": "code",
        "colab": {
          "base_uri": "https://localhost:8080/",
          "height": 70
        },
        "outputId": "54c9b732-efcf-4fab-bdab-6e041f7ba34f"
      },
      "source": [
        "torch.manual_seed(1)\n",
        "model = LR(1, 1)\n",
        "print(model)"
      ],
      "execution_count": 21,
      "outputs": [
        {
          "output_type": "stream",
          "text": [
            "LR(\n",
            "  (linear): Linear(in_features=1, out_features=1, bias=True)\n",
            ")\n"
          ],
          "name": "stdout"
        }
      ]
    },
    {
      "cell_type": "code",
      "metadata": {
        "id": "Xa7EBgprnFH_",
        "colab_type": "code",
        "colab": {}
      },
      "source": [
        "[w, b] = model.parameters()\n",
        "def get_params():\n",
        "  return (w[0][0].item(), b[0].item())"
      ],
      "execution_count": 0,
      "outputs": []
    },
    {
      "cell_type": "code",
      "metadata": {
        "id": "GEnXQPEpnRJd",
        "colab_type": "code",
        "colab": {}
      },
      "source": [
        "def plot_fit(title):\n",
        "  plt.title = title\n",
        "  w1, b1 = get_params()\n",
        "  x1 = np.array([-30, 30])\n",
        "  y1 = w1*x1 + b1\n",
        "  plt.plot(x1, y1, 'r')\n",
        "  plt.scatter(X, y)\n",
        "  plt.show()"
      ],
      "execution_count": 0,
      "outputs": []
    },
    {
      "cell_type": "code",
      "metadata": {
        "id": "YFxugKjXnSwK",
        "colab_type": "code",
        "colab": {
          "base_uri": "https://localhost:8080/",
          "height": 268
        },
        "outputId": "bd9423b7-882c-4082-a8b5-bb158c73f625"
      },
      "source": [
        "plot_fit('Initial Model')"
      ],
      "execution_count": 24,
      "outputs": [
        {
          "output_type": "display_data",
          "data": {
            "image/png": "[encoded data removed]",
            "text/plain": [
              "<Figure size 432x288 with 1 Axes>"
            ]
          },
          "metadata": {
            "tags": []
          }
        }
      ]
    },
    {
      "cell_type": "code",
      "metadata": {
        "id": "FBvQDzH6nUh0",
        "colab_type": "code",
        "colab": {}
      },
      "source": [
        "criterion = nn.MSELoss()\n",
        "optimizer = torch.optim.SGD(model.parameters(), lr = 0.01)"
      ],
      "execution_count": 0,
      "outputs": []
    },
    {
      "cell_type": "code",
      "metadata": {
        "id": "9UfHmHjtnXQf",
        "colab_type": "code",
        "colab": {
          "base_uri": "https://localhost:8080/",
          "height": 1000
        },
        "outputId": "da63f68f-66fa-4df4-ded7-f633ebaa6109"
      },
      "source": [
        "epochs = 100\n",
        "losses = []\n",
        "for i in range(epochs):\n",
        "  y_pred = model.forward(X)\n",
        "  loss = criterion(y_pred, y)\n",
        "  print(\"epoch:\", i, \"loss:\", loss.item())\n",
        "  \n",
        "  losses.append(loss)\n",
        "  optimizer.zero_grad()\n",
        "  loss.backward()\n",
        "  optimizer.step()"
      ],
      "execution_count": 26,
      "outputs": [
        {
          "output_type": "stream",
          "text": [
            "epoch: 0 loss: 26.700185775756836\n",
            "epoch: 1 loss: 20.196239471435547\n",
            "epoch: 2 loss: 15.923158645629883\n",
            "epoch: 3 loss: 13.115731239318848\n",
            "epoch: 4 loss: 11.271230697631836\n",
            "epoch: 5 loss: 10.059378623962402\n",
            "epoch: 6 loss: 9.26317024230957\n",
            "epoch: 7 loss: 8.740036010742188\n",
            "epoch: 8 loss: 8.39631175994873\n",
            "epoch: 9 loss: 8.17046070098877\n",
            "epoch: 10 loss: 8.022053718566895\n",
            "epoch: 11 loss: 7.924526691436768\n",
            "epoch: 12 loss: 7.860429286956787\n",
            "epoch: 13 loss: 7.818295478820801\n",
            "epoch: 14 loss: 7.790592670440674\n",
            "epoch: 15 loss: 7.772371768951416\n",
            "epoch: 16 loss: 7.76038122177124\n",
            "epoch: 17 loss: 7.752484321594238\n",
            "epoch: 18 loss: 7.747278213500977\n",
            "epoch: 19 loss: 7.743840217590332\n",
            "epoch: 20 loss: 7.741564750671387\n",
            "epoch: 21 loss: 7.740054130554199\n",
            "epoch: 22 loss: 7.739046096801758\n",
            "epoch: 23 loss: 7.738368988037109\n",
            "epoch: 24 loss: 7.73790979385376\n",
            "epoch: 25 loss: 7.7375946044921875\n",
            "epoch: 26 loss: 7.7373738288879395\n",
            "epoch: 27 loss: 7.737216949462891\n",
            "epoch: 28 loss: 7.737101078033447\n",
            "epoch: 29 loss: 7.737013816833496\n",
            "epoch: 30 loss: 7.736945152282715\n",
            "epoch: 31 loss: 7.736888885498047\n",
            "epoch: 32 loss: 7.736842155456543\n",
            "epoch: 33 loss: 7.7368011474609375\n",
            "epoch: 34 loss: 7.736764430999756\n",
            "epoch: 35 loss: 7.73673152923584\n",
            "epoch: 36 loss: 7.736700534820557\n",
            "epoch: 37 loss: 7.736672401428223\n",
            "epoch: 38 loss: 7.736645221710205\n",
            "epoch: 39 loss: 7.736619472503662\n",
            "epoch: 40 loss: 7.736595630645752\n",
            "epoch: 41 loss: 7.736572265625\n",
            "epoch: 42 loss: 7.7365498542785645\n",
            "epoch: 43 loss: 7.7365288734436035\n",
            "epoch: 44 loss: 7.736508369445801\n",
            "epoch: 45 loss: 7.7364888191223145\n",
            "epoch: 46 loss: 7.7364702224731445\n",
            "epoch: 47 loss: 7.736452102661133\n",
            "epoch: 48 loss: 7.736434459686279\n",
            "epoch: 49 loss: 7.736417770385742\n",
            "epoch: 50 loss: 7.736401557922363\n",
            "epoch: 51 loss: 7.736386299133301\n",
            "epoch: 52 loss: 7.7363715171813965\n",
            "epoch: 53 loss: 7.736357688903809\n",
            "epoch: 54 loss: 7.736343860626221\n",
            "epoch: 55 loss: 7.736330509185791\n",
            "epoch: 56 loss: 7.7363176345825195\n",
            "epoch: 57 loss: 7.7363057136535645\n",
            "epoch: 58 loss: 7.736294269561768\n",
            "epoch: 59 loss: 7.736283302307129\n",
            "epoch: 60 loss: 7.73627233505249\n",
            "epoch: 61 loss: 7.73626184463501\n",
            "epoch: 62 loss: 7.736252307891846\n",
            "epoch: 63 loss: 7.736242294311523\n",
            "epoch: 64 loss: 7.736233711242676\n",
            "epoch: 65 loss: 7.73622465133667\n",
            "epoch: 66 loss: 7.736216068267822\n",
            "epoch: 67 loss: 7.736207962036133\n",
            "epoch: 68 loss: 7.736200332641602\n",
            "epoch: 69 loss: 7.73619270324707\n",
            "epoch: 70 loss: 7.736185550689697\n",
            "epoch: 71 loss: 7.736177921295166\n",
            "epoch: 72 loss: 7.736171722412109\n",
            "epoch: 73 loss: 7.7361650466918945\n",
            "epoch: 74 loss: 7.736159324645996\n",
            "epoch: 75 loss: 7.736153602600098\n",
            "epoch: 76 loss: 7.736147403717041\n",
            "epoch: 77 loss: 7.736142635345459\n",
            "epoch: 78 loss: 7.7361369132995605\n",
            "epoch: 79 loss: 7.7361321449279785\n",
            "epoch: 80 loss: 7.7361273765563965\n",
            "epoch: 81 loss: 7.7361226081848145\n",
            "epoch: 82 loss: 7.736117839813232\n",
            "epoch: 83 loss: 7.736113548278809\n",
            "epoch: 84 loss: 7.736109733581543\n",
            "epoch: 85 loss: 7.736105442047119\n",
            "epoch: 86 loss: 7.7361016273498535\n",
            "epoch: 87 loss: 7.736097812652588\n",
            "epoch: 88 loss: 7.736093997955322\n",
            "epoch: 89 loss: 7.736091613769531\n",
            "epoch: 90 loss: 7.736088275909424\n",
            "epoch: 91 loss: 7.736084461212158\n",
            "epoch: 92 loss: 7.736081123352051\n",
            "epoch: 93 loss: 7.73607873916626\n",
            "epoch: 94 loss: 7.7360758781433105\n",
            "epoch: 95 loss: 7.7360734939575195\n",
            "epoch: 96 loss: 7.73607063293457\n",
            "epoch: 97 loss: 7.736068248748779\n",
            "epoch: 98 loss: 7.736065864562988\n",
            "epoch: 99 loss: 7.7360639572143555\n"
          ],
          "name": "stdout"
        }
      ]
    },
    {
      "cell_type": "code",
      "metadata": {
        "id": "m42333cZnY_j",
        "colab_type": "code",
        "colab": {
          "base_uri": "https://localhost:8080/",
          "height": 300
        },
        "outputId": "5711d1dd-8ef8-4cb8-8366-9b13b961f69c"
      },
      "source": [
        "plt.plot(range(epochs), losses)\n",
        "plt.ylabel('Loss')\n",
        "plt.xlabel('epoch')"
      ],
      "execution_count": 27,
      "outputs": [
        {
          "output_type": "execute_result",
          "data": {
            "text/plain": [
              "Text(0.5, 0, 'epoch')"
            ]
          },
          "metadata": {
            "tags": []
          },
          "execution_count": 27
        },
        {
          "output_type": "display_data",
          "data": {
            "image/png": "[encoded data removed]",
            "text/plain": [
              "<Figure size 432x288 with 1 Axes>"
            ]
          },
          "metadata": {
            "tags": []
          }
        }
      ]
    },
    {
      "cell_type": "code",
      "metadata": {
        "id": "ji8jvhCgncRc",
        "colab_type": "code",
        "colab": {
          "base_uri": "https://localhost:8080/",
          "height": 268
        },
        "outputId": "5961e71c-e037-4ad2-fcb7-7f4be229171c"
      },
      "source": [
        "plot_fit(\"Trained Model\")"
      ],
      "execution_count": 28,
      "outputs": [
        {
          "output_type": "display_data",
          "data": {
            "image/png": "[encoded data removed]",
            "text/plain": [
              "<Figure size 432x288 with 1 Axes>"
            ]
          },
          "metadata": {
            "tags": []
          }
        }
      ]
    },
    {
      "cell_type": "code",
      "metadata": {
        "id": "k8chka7IneHN",
        "colab_type": "code",
        "colab": {}
      },
      "source": [
        ""
      ],
      "execution_count": 0,
      "outputs": []
    }
  ]
}